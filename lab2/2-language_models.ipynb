{
 "cells": [
  {
   "cell_type": "markdown",
   "metadata": {},
   "source": [
    "# Assignment #2: Language models\n",
    "Author: Pierre Nugues"
   ]
  },
  {
   "cell_type": "markdown",
   "metadata": {},
   "source": [
    "## Objectives"
   ]
  },
  {
   "cell_type": "markdown",
   "metadata": {},
   "source": [
    "The objectives of this assignment are to:\n",
    "* Write a program to find n-gram statistics\n",
    "* Compute the probability of a sentence\n",
    "* Know what a language model is\n",
    "* Write a short report of 1 to 2 pages on the assignment"
   ]
  },
  {
   "cell_type": "markdown",
   "metadata": {},
   "source": [
    "## Submission"
   ]
  },
  {
   "cell_type": "markdown",
   "metadata": {},
   "source": [
    "Once you have written all the missing code and run all the cells, you will show it to an instructor that will pass you."
   ]
  },
  {
   "cell_type": "markdown",
   "metadata": {},
   "source": [
    "## Organization"
   ]
  },
  {
   "cell_type": "markdown",
   "metadata": {},
   "source": [
    "* Each group will have to write Python programs to count unigrams, bigrams, and trigrams in a corpus of approximately one million words and to determine the probability of a sentence.\n",
    "* You can test you regular expression using the regex101.com site\n",
    "* Each student will have to write a short report of one to two pages and comment briefly the results. In your report, you must produce the tabulated results of your analysis as described below."
   ]
  },
  {
   "cell_type": "markdown",
   "metadata": {},
   "source": [
    "## Programming"
   ]
  },
  {
   "cell_type": "markdown",
   "metadata": {},
   "source": [
    "### Imports"
   ]
  },
  {
   "cell_type": "markdown",
   "metadata": {},
   "source": [
    "Some imports you may need. Add others as needed."
   ]
  },
  {
   "cell_type": "code",
   "metadata": {
    "ExecuteTime": {
     "end_time": "2025-09-17T10:00:46.090276Z",
     "start_time": "2025-09-17T10:00:45.565559Z"
    }
   },
   "source": [
    "import bz2\n",
    "import math\n",
    "import os\n",
    "import regex as re\n",
    "import requests\n",
    "import sys\n",
    "from zipfile import ZipFile"
   ],
   "outputs": [],
   "execution_count": 1
  },
  {
   "cell_type": "markdown",
   "metadata": {},
   "source": [
    "### Collecting and analyzing a corpus"
   ]
  },
  {
   "cell_type": "markdown",
   "metadata": {},
   "source": [
    "Retrieve a corpus of novels by Selma Lagerl&ouml;f from this URL:\n",
    "<a href=\"https://github.com/pnugues/ilppp/blob/master/programs/corpus/Selma.txt\">\n",
    "    <tt>https://github.com/pnugues/ilppp/blob/master/programs/corpus/Selma.txt</tt>\n",
    "</a>. The text of these novels was extracted\n",
    "from <a href=\"https://litteraturbanken.se/forfattare/LagerlofS/titlar\">Lagerlöf arkivet</a> at\n",
    "<a href=\"https://litteraturbanken.se/\">Litteraturbanken</a>."
   ]
  },
  {
   "cell_type": "code",
   "metadata": {
    "ExecuteTime": {
     "end_time": "2025-09-17T10:00:46.126133Z",
     "start_time": "2025-09-17T10:00:46.105266Z"
    }
   },
   "source": [
    "# You may have to adjust the path\n",
    "corpus = open('corpus/Selma.txt', encoding='utf8').read()"
   ],
   "outputs": [],
   "execution_count": 2
  },
  {
   "cell_type": "markdown",
   "metadata": {},
   "source": [
    "Run the <a href=\"https://github.com/pnugues/ilppp/tree/master/programs/ch02/python\">concordance\n",
    "program </a> to print the lines containing a specific word, for instance <i>Nils</i>."
   ]
  },
  {
   "cell_type": "code",
   "metadata": {
    "ExecuteTime": {
     "end_time": "2025-09-17T10:00:46.805002Z",
     "start_time": "2025-09-17T10:00:46.801385Z"
    }
   },
   "source": [
    "pattern = 'Nils Holgersson'\n",
    "width = 25"
   ],
   "outputs": [],
   "execution_count": 3
  },
  {
   "cell_type": "code",
   "metadata": {
    "ExecuteTime": {
     "end_time": "2025-09-17T10:00:47.273618Z",
     "start_time": "2025-09-17T10:00:46.824182Z"
    }
   },
   "source": [
    "# spaces match tabs and newlines\n",
    "pattern = re.sub(' ', r'\\\\s+', pattern)\n",
    "# Replaces newlines with spaces in the text\n",
    "clean_corpus = re.sub(r'\\s+', ' ', corpus)\n",
    "concordance = ('(.{{0,{width}}}{pattern}.{{0,{width}}})'\n",
    "               .format(pattern=pattern, width=width))\n",
    "for match in re.finditer(concordance, clean_corpus):\n",
    "    print(match.group(1))\n",
    "# print the string with 0..width characters on either side"
   ],
   "outputs": [
    {
     "name": "stdout",
     "output_type": "stream",
     "text": [
      "Selma Lagerlöf Nils Holgerssons underbara resa genom Sv\n",
      "! Se på Tummetott! Se på Nils Holgersson Tummetott!» Genast vände\n",
      "r,» sade han. »Jag heter Nils Holgersson och är son till en husma\n",
      "lden. »Inte är det värt, Nils Holgersson, att du är ängslig eller\n",
      " i dem. På den tiden, då Nils Holgersson drog omkring med vildgäs\n",
      "ulle allt visa honom vad Nils Holgersson från Västra Vemmenhög va\n",
      "om ägde rum det året, då Nils Holgersson for omkring med vildgäss\n",
      "m vad det kan kosta dem. Nils Holgersson hade inte haft förstånd \n",
      "de det inte mer sägas om Nils Holgersson, att han inte tyckte om \n",
      " Rosenbom?» För där stod Nils Holgersson mitt uppe på Rosenboms n\n",
      " Med ens fingo de syn på Nils Holgersson, och då sköt den store v\n",
      "vila. När vildgässen och Nils Holgersson äntligen hade letat sig \n",
      " slags arbetare. Men vad Nils Holgersson inte såg, det var, att s\n",
      "nde han fråga, och om då Nils Holgersson sade nej, började han ge\n",
      "de lille Mats, och om nu Nils Holgersson också hade tegat, så had\n",
      "åg så försmädlig ut, att Nils Holgersson kastade sig över honom f\n",
      " brodern. Och inte ville Nils Holgersson slåss med en tös, utan h\n",
      "örkar. På den tiden, när Nils Holgersson for omkring med vildgäss\n",
      " ryckte omkull honom. Om Nils Holgersson genast hade ropat på hjä\n",
      "u reda dig på egen hand, Nils Holgersson,» sade han då till sig s\n",
      "r satte Fumle-Drumle ner Nils Holgersson på bottnen av en sandgro\n",
      "mlingarna. – »Jo, jag är Nils Holgersson från Västra Vemmenhög, s\n",
      "rakten. På den tiden, då Nils Holgersson for omkring med vildgäss\n",
      "Jo, det står – Det står: Nils Holgersson fr. V. Vemmenhög.» »Det \n",
      "visan 1 Sveriges karta 2 Nils Holgerssons underbara resa genom Sv\n",
      "admalsvåden 233 ________ Nils Holgerssons underbara resa genom Sv\n",
      "R. Tolv år ungefär innan Nils Holgersson hade börjat resa omkring\n",
      "och leta efter föda, men Nils Holgersson hade på morgonen tappat \n",
      "ill i Närke det året, då Nils Holgersson for fram över landskapet\n",
      "hade flyttat tassen över Nils Holgerssons ansikte, så att den sta\n",
      "29 april. Denna dag fick Nils Holgersson se södra Dalarna. Vildgä\n",
      "rliga sjön. Det året, då Nils Holgersson for med vildgässen genom\n",
      "t skänka upptäckten till Nils Holgersson. Det var ju både det tro\n",
      " som sången varade, stod Nils Holgersson och lyssnade till den, m\n",
      "ova på en vassrugge. Vad Nils Holgersson angår, så var han för hu\n",
      "e svårt för en sådan som Nils Holgersson att finna en farkost. Ha\n",
      "r de hade kommit mittför Nils Holgersson, slogo de sig ner på ett\n",
      " 5 maj. På den tiden, då Nils Holgersson drog genom landet med vi\n",
      "an vara bra lycklig. Att Nils Holgersson, som för ett par timmar \n",
      " afton. Och således hade Nils Holgersson fått se studenterna, när\n",
      "nger under marschen. Men Nils Holgersson hade tyckt, att det inte\n",
      "och glädja så som dessa. Nils Holgersson hade mest sett på studen\n",
      "m, stannade han. »Jag är Nils Holgersson från Västra Vemmenhög,» \n",
      " Ett par år före det, då Nils Holgersson drog omkring med vildgäs\n",
      " detsamma fattade han om Nils Holgersson med sin stora fot, höjde\n",
      "t ingen mer än den lilla Nils Holgersson, som följde henne. Solen\n",
      " voro klädda med is, och Nils Holgersson ville följa henne dit in\n",
      "t Lappland är mitt!» Men Nils Holgersson hade blivit så ängslig, \n",
      " över klippväggarna, och Nils Holgersson kunde förstå, att det va\n",
      " SJUKDOMEN. Det året, då Nils Holgersson for omkring med vildgäss\n",
      "jligt att undgå den. Vad Nils Holgersson beträffar, så hade han h\n",
      "hade hon slagit klorna i Nils Holgerssons skuldra och hackade eft\n",
      "g, att just det året, då Nils Holgersson for omkring med vildgäss\n",
      " lönt att vara bedrövad, Nils Holgersson,» sade solen. »Världen ä\n",
      "åga om han inte kunde ge Nils Holgersson bättre villkor. ’Det öns\n",
      "du vill,’ sade han. ’Med Nils Holgersson blir det ändå så, som ja\n",
      "a haft av honom. Ja, säg Nils Holgersson, att föräldrarna redan h\n",
      "Västergötland. Den lille Nils Holgersson hade krupit upp på en la\n",
      " honom sämre.» Den lille Nils Holgersson hade följt med barnen he\n",
      "e bara störa.» Då tyckte Nils Holgersson, att när ingen annan gjo\n",
      "n färdig att följa det.» Nils Holgersson sprang raskt neråt vägen\n",
      "rott mellan de unga. Vad Nils Holgersson beträffar, så hade han i\n",
      "on gav sig tid att se på Nils Holgersson, innan hon stötte till. \n",
      " ändå alldeles olik. Den Nils Holgersson, som hade farit bort i v\n",
      " tro det. Välkommen hem, Nils Holgersson, välkommen hem! Det här \n",
      "mig här på gården,» sade Nils Holgersson. »Min egen mor tror, att\n",
      "on riktig sjukdom,» sade Nils Holgersson. »Jag får försöka ställa\n",
      "in kniv här på din hov?» Nils Holgersson var nätt och jämnt färdi\n",
      "sslingen, som var så lik Nils Holgersson, att om det inte var han\n",
      "pojken fanns i närheten. Nils Holgersson hörde honom nog, men han\n",
      "ottrar ihop ett tack för Nils Holgersson? Vad skulle det ha blivi\n"
     ]
    }
   ],
   "execution_count": 4
  },
  {
   "cell_type": "markdown",
   "metadata": {},
   "source": [
    "Run a simple <a href=\"https://github.com/pnugues/ilppp/tree/master/programs/ch05/python\">tokenization\n",
    "program</a> on your corpus."
   ]
  },
  {
   "cell_type": "code",
   "metadata": {
    "ExecuteTime": {
     "end_time": "2025-09-17T10:00:47.296944Z",
     "start_time": "2025-09-17T10:00:47.292052Z"
    }
   },
   "source": [
    "def tokenize(text):\n",
    "    words = re.findall(r'\\p{L}+', text)\n",
    "    return words"
   ],
   "outputs": [],
   "execution_count": 5
  },
  {
   "cell_type": "code",
   "metadata": {
    "ExecuteTime": {
     "end_time": "2025-09-17T10:00:47.698484Z",
     "start_time": "2025-09-17T10:00:47.344284Z"
    }
   },
   "source": [
    "words = tokenize(corpus)\n",
    "words[:10]"
   ],
   "outputs": [
    {
     "data": {
      "text/plain": [
       "['Selma',\n",
       " 'Lagerlöf',\n",
       " 'Nils',\n",
       " 'Holgerssons',\n",
       " 'underbara',\n",
       " 'resa',\n",
       " 'genom',\n",
       " 'Sverige',\n",
       " 'Första',\n",
       " 'bandet']"
      ]
     },
     "execution_count": 6,
     "metadata": {},
     "output_type": "execute_result"
    }
   ],
   "execution_count": 6
  },
  {
   "cell_type": "markdown",
   "metadata": {},
   "source": [
    "Count the number of unique words in the original corpus and when setting all the words in lowercase"
   ]
  },
  {
   "cell_type": "markdown",
   "metadata": {},
   "source": [
    "Original text"
   ]
  },
  {
   "cell_type": "code",
   "metadata": {
    "ExecuteTime": {
     "end_time": "2025-09-17T10:00:47.789235Z",
     "start_time": "2025-09-17T10:00:47.719920Z"
    }
   },
   "source": [
    "# Write your code here\n",
    "print(len(set(words)))"
   ],
   "outputs": [
    {
     "name": "stdout",
     "output_type": "stream",
     "text": [
      "44256\n"
     ]
    }
   ],
   "execution_count": 7
  },
  {
   "cell_type": "markdown",
   "metadata": {},
   "source": [
    "Lowercased text"
   ]
  },
  {
   "cell_type": "code",
   "metadata": {
    "ExecuteTime": {
     "end_time": "2025-09-17T10:00:47.913905Z",
     "start_time": "2025-09-17T10:00:47.813907Z"
    }
   },
   "source": [
    "# Write your code here\n",
    "lower_case = [w.lower() for w in words]"
   ],
   "outputs": [],
   "execution_count": 8
  },
  {
   "cell_type": "markdown",
   "metadata": {},
   "source": [
    "### Segmenting a corpus"
   ]
  },
  {
   "cell_type": "markdown",
   "metadata": {},
   "source": [
    "You will write a program to tokenize your text, insert `<s>` and `</s>` tags to delimit sentences, and set all the words in lowercase letters. In the end, you will only keep the words."
   ]
  },
  {
   "cell_type": "markdown",
   "metadata": {},
   "source": [
    "#### Normalizing "
   ]
  },
  {
   "cell_type": "markdown",
   "metadata": {},
   "source": [
    "Write a regular expression that matches all the characters that are neither a letter nor a punctuation sign. The punctuations signs will be the followings: `.;:?!`. In your regex, use the same order. For the definition of a letter, use a Unicode regex. You will call the regex string `nonletter`"
   ]
  },
  {
   "cell_type": "code",
   "metadata": {
    "ExecuteTime": {
     "end_time": "2025-09-17T10:00:47.930336Z",
     "start_time": "2025-09-17T10:00:47.926811Z"
    }
   },
   "source": [
    "# Write your code\n",
    "nonletter = re.compile(r\"[^\\p{L}\\.;:?!]\")"
   ],
   "outputs": [],
   "execution_count": 9
  },
  {
   "cell_type": "markdown",
   "metadata": {},
   "source": [
    "Write a `clean()` function that replaces all the characters that are neither a letter nor a punctuation sign with a space. The punctuations signs will be the followings: `.;:?!`.   For the sentence:\n",
    "\n",
    "_En gång hade de på Mårbacka en barnpiga, som hette Back-Kajsa._\n",
    "\n",
    "the result will be:\n",
    "\n",
    "`En gång hade de på Mårbacka en barnpiga som hette Back Kajsa.`"
   ]
  },
  {
   "cell_type": "code",
   "metadata": {
    "ExecuteTime": {
     "end_time": "2025-09-17T10:00:47.961109Z",
     "start_time": "2025-09-17T10:00:47.956693Z"
    }
   },
   "source": [
    "# Write your code here\n",
    "def clean(text):\n",
    "    cleaned_text = nonletter.sub(' ', text)\n",
    "    cleaned_text = re.sub(r'\\s+', ' ', cleaned_text)\n",
    "    return cleaned_text.strip()\n"
   ],
   "outputs": [],
   "execution_count": 10
  },
  {
   "cell_type": "code",
   "metadata": {
    "ExecuteTime": {
     "end_time": "2025-09-17T10:00:47.993568Z",
     "start_time": "2025-09-17T10:00:47.989970Z"
    }
   },
   "source": [
    "test_para = 'En gång hade de på Mårbacka en barnpiga, som hette Back-Kajsa. \\\n",
    "Hon var nog sina tre alnar lång, hon hade ett stort, grovt ansikte med stränga, mörka drag, \\\n",
    "hennes händer voro hårda och fulla av sprickor, som barnens hår fastnade i, \\\n",
    "när hon kammade dem, och till humöret var hon dyster och sorgbunden.'"
   ],
   "outputs": [],
   "execution_count": 11
  },
  {
   "cell_type": "code",
   "metadata": {
    "ExecuteTime": {
     "end_time": "2025-09-17T10:00:48.034225Z",
     "start_time": "2025-09-17T10:00:48.029328Z"
    }
   },
   "source": [
    "test_para = clean(test_para)\n",
    "test_para"
   ],
   "outputs": [
    {
     "data": {
      "text/plain": [
       "'En gång hade de på Mårbacka en barnpiga som hette Back Kajsa. Hon var nog sina tre alnar lång hon hade ett stort grovt ansikte med stränga mörka drag hennes händer voro hårda och fulla av sprickor som barnens hår fastnade i när hon kammade dem och till humöret var hon dyster och sorgbunden.'"
      ]
     },
     "execution_count": 12,
     "metadata": {},
     "output_type": "execute_result"
    }
   ],
   "execution_count": 12
  },
  {
   "cell_type": "code",
   "metadata": {
    "ExecuteTime": {
     "end_time": "2025-09-17T10:00:48.100738Z",
     "start_time": "2025-09-17T10:00:48.096644Z"
    }
   },
   "source": [
    "print(corpus[:200])"
   ],
   "outputs": [
    {
     "name": "stdout",
     "output_type": "stream",
     "text": [
      "Selma Lagerlöf\n",
      "\n",
      "\n",
      "Nils Holgerssons underbara resa genom Sverige. Första bandet\n",
      "\n",
      "\n",
      "\n",
      "\n",
      "\n",
      "Bokutgåva\n",
      "\n",
      "\n",
      "Albert Bonniers förlag, Stockholm 1907.\n",
      "\n",
      "\n",
      "\n",
      "\n",
      "DEN KRISTLIGA DAGVISAN.\n",
      "\n",
      "\n",
      "\n",
      "\n",
      "\n",
      "Den signade dag, som vi nu här s\n"
     ]
    }
   ],
   "execution_count": 13
  },
  {
   "cell_type": "code",
   "metadata": {
    "ExecuteTime": {
     "end_time": "2025-09-17T10:00:48.177391Z",
     "start_time": "2025-09-17T10:00:48.173949Z"
    }
   },
   "source": [
    "print(clean(corpus[:200]))"
   ],
   "outputs": [
    {
     "name": "stdout",
     "output_type": "stream",
     "text": [
      "Selma Lagerlöf Nils Holgerssons underbara resa genom Sverige. Första bandet Bokutgåva Albert Bonniers förlag Stockholm . DEN KRISTLIGA DAGVISAN. Den signade dag som vi nu här s\n"
     ]
    }
   ],
   "execution_count": 14
  },
  {
   "cell_type": "markdown",
   "metadata": {},
   "source": [
    "#### Segmenter"
   ]
  },
  {
   "cell_type": "markdown",
   "metadata": {},
   "source": [
    "In this section, you will write a sentence segmenter that will delimit each sentence with `</s>` and `<s>` symbols. For example the sentence:\n",
    "\n",
    "_En gång hade de på Mårbacka en barnpiga, som hette Back-Kajsa._\n",
    "\n",
    "will be bracketed as:\n",
    "\n",
    "`<s> En gång hade de på Mårbacka en barnpiga som hette Back-Kajsa </s>`\n",
    "\n",
    "As algorithm, you will use a simple heuristics to detect the sentence boundaries: A sentence starts with a capital letter and ends with a period-equivalent punctuation sign. You will write a regex to match these boundaries with a regular expression and you will insert `</s>\\n<s>` symbols with a substitution function."
   ]
  },
  {
   "cell_type": "markdown",
   "metadata": {},
   "source": [
    "##### Detecting sentence boundaries"
   ]
  },
  {
   "cell_type": "markdown",
   "metadata": {},
   "source": [
    "Write a regular expression that matches a punctuation, a sequence of spaces, and an uppercase letter. Call this regex string `sentence_boundaries`. In the regex, you will remember the value of the uppercase letter using a backreference. Use the Unicode regexes for the letters and the spaces. You may use `\\s` though."
   ]
  },
  {
   "cell_type": "code",
   "metadata": {
    "ExecuteTime": {
     "end_time": "2025-09-17T10:00:48.248811Z",
     "start_time": "2025-09-17T10:00:48.244516Z"
    }
   },
   "source": [
    "# Write your code here\n",
    "sentence_boundaries = r\"[.;:?!]\\s+(\\p{Lu})\\1?\"\n",
    "text = \"Hello! This is a test. Another sentence? Lol! XD\"\n",
    "matches = re.findall(sentence_boundaries, text)\n",
    "print(matches)\n"
   ],
   "outputs": [
    {
     "name": "stdout",
     "output_type": "stream",
     "text": [
      "['T', 'A', 'L', 'X']\n"
     ]
    }
   ],
   "execution_count": 15
  },
  {
   "cell_type": "markdown",
   "metadata": {},
   "source": [
    "##### Replacement markup"
   ]
  },
  {
   "cell_type": "markdown",
   "metadata": {},
   "source": [
    "Write a string to replace the matched boundaries with the sentence boundary markup. Remember that a sentence ends with `</s>` and starts with `<s>` and that there is one sentence per line. Hint: The markup is `</s>\\n<s>`. Remember also that the first letter of your sentence is in a regex backreference. Call the regex string `sentence_markup`."
   ]
  },
  {
   "cell_type": "code",
   "metadata": {
    "ExecuteTime": {
     "end_time": "2025-09-17T10:00:48.335029Z",
     "start_time": "2025-09-17T10:00:48.331432Z"
    }
   },
   "source": [
    "# Write your code here\n",
    "sentence_markup  = r\" </s>\\n<s> \\1\"\n",
    "testing_sentence = re.sub(sentence_boundaries, sentence_markup, text)\n",
    "print(testing_sentence)\n"
   ],
   "outputs": [
    {
     "name": "stdout",
     "output_type": "stream",
     "text": [
      "Hello </s>\n",
      "<s> This is a test </s>\n",
      "<s> Another sentence </s>\n",
      "<s> Lol </s>\n",
      "<s> XD\n"
     ]
    }
   ],
   "execution_count": 16
  },
  {
   "cell_type": "markdown",
   "metadata": {},
   "source": [
    "##### Applying the substitution"
   ]
  },
  {
   "cell_type": "markdown",
   "metadata": {},
   "source": [
    "Use your regexes to segment your text. Use the string `sentence_boundaries`, `sentence_markup`, and `test_para` as input and `text` as output."
   ]
  },
  {
   "cell_type": "code",
   "metadata": {
    "ExecuteTime": {
     "end_time": "2025-09-17T10:00:48.409047Z",
     "start_time": "2025-09-17T10:00:48.405393Z"
    }
   },
   "source": [
    "# Write your code here\n",
    "text = re.sub(sentence_boundaries, sentence_markup, test_para)"
   ],
   "outputs": [],
   "execution_count": 17
  },
  {
   "cell_type": "code",
   "metadata": {
    "ExecuteTime": {
     "end_time": "2025-09-17T10:00:48.448236Z",
     "start_time": "2025-09-17T10:00:48.444583Z"
    }
   },
   "source": [
    "print(text)"
   ],
   "outputs": [
    {
     "name": "stdout",
     "output_type": "stream",
     "text": [
      "En gång hade de på Mårbacka en barnpiga som hette Back Kajsa </s>\n",
      "<s> Hon var nog sina tre alnar lång hon hade ett stort grovt ansikte med stränga mörka drag hennes händer voro hårda och fulla av sprickor som barnens hår fastnade i när hon kammade dem och till humöret var hon dyster och sorgbunden.\n"
     ]
    }
   ],
   "execution_count": 18
  },
  {
   "cell_type": "markdown",
   "metadata": {},
   "source": [
    "Insert markup codes in the beginning and end of the text"
   ]
  },
  {
   "cell_type": "code",
   "metadata": {
    "ExecuteTime": {
     "end_time": "2025-09-17T10:00:48.528124Z",
     "start_time": "2025-09-17T10:00:48.522425Z"
    }
   },
   "source": [
    "# Write your code here\n",
    "text = \"<s> \" +text+ \" </s>\""
   ],
   "outputs": [],
   "execution_count": 19
  },
  {
   "cell_type": "code",
   "metadata": {
    "ExecuteTime": {
     "end_time": "2025-09-17T10:00:48.560014Z",
     "start_time": "2025-09-17T10:00:48.555993Z"
    }
   },
   "source": [
    "print(text)"
   ],
   "outputs": [
    {
     "name": "stdout",
     "output_type": "stream",
     "text": [
      "<s> En gång hade de på Mårbacka en barnpiga som hette Back Kajsa </s>\n",
      "<s> Hon var nog sina tre alnar lång hon hade ett stort grovt ansikte med stränga mörka drag hennes händer voro hårda och fulla av sprickor som barnens hår fastnade i när hon kammade dem och till humöret var hon dyster och sorgbunden. </s>\n"
     ]
    }
   ],
   "execution_count": 20
  },
  {
   "cell_type": "markdown",
   "metadata": {},
   "source": [
    "Replace the space duplicates with one space and remove the punctuation signs. For the spaces, use the Unicode regex. You may use `\\s` though."
   ]
  },
  {
   "cell_type": "code",
   "metadata": {
    "ExecuteTime": {
     "end_time": "2025-09-17T10:00:48.642719Z",
     "start_time": "2025-09-17T10:00:48.637741Z"
    }
   },
   "source": [
    "# Write your code here\n",
    "s = r'\\p{Zs}+'\n",
    "p = r'[.;:?!]'\n",
    "_t = re.sub(s, ' ', '\\n  Hello', re.MULTILINE)\n",
    "assert  _t == '\\n Hello', _t\n",
    "text = re.sub(p, '', text)\n",
    "text = re.sub(r'\\n+', '\\n', text)\n",
    "text = re.sub(s, ' ', text)"
   ],
   "outputs": [],
   "execution_count": 21
  },
  {
   "cell_type": "code",
   "metadata": {
    "ExecuteTime": {
     "end_time": "2025-09-17T10:00:48.680186Z",
     "start_time": "2025-09-17T10:00:48.675926Z"
    }
   },
   "source": [
    "print(text)"
   ],
   "outputs": [
    {
     "name": "stdout",
     "output_type": "stream",
     "text": [
      "<s> En gång hade de på Mårbacka en barnpiga som hette Back Kajsa </s>\n",
      "<s> Hon var nog sina tre alnar lång hon hade ett stort grovt ansikte med stränga mörka drag hennes händer voro hårda och fulla av sprickor som barnens hår fastnade i när hon kammade dem och till humöret var hon dyster och sorgbunden </s>\n"
     ]
    }
   ],
   "execution_count": 22
  },
  {
   "cell_type": "markdown",
   "metadata": {},
   "source": [
    "Write a `segment_sentences(text)` function to gather the code in the Segmenter section and set the text in lowercase"
   ]
  },
  {
   "cell_type": "code",
   "metadata": {
    "ExecuteTime": {
     "end_time": "2025-09-17T10:00:48.737400Z",
     "start_time": "2025-09-17T10:00:48.733406Z"
    }
   },
   "source": [
    "# Write your code here\n",
    "def segment_sentences(t):\n",
    "    t = re.sub(sentence_boundaries, sentence_markup, t)\n",
    "    _text = \"<s> \" +t+ \" </s>\"\n",
    "    _text = re.sub(p, '', _text)\n",
    "    _text = re.sub(r'\\n+', '\\n', _text)\n",
    "    _text = re.sub(s, ' ', _text)\n",
    "    _text = re.sub(r',', '', _text) ##WTF\n",
    "    return _text.lower()\n",
    "\n",
    "    "
   ],
   "outputs": [],
   "execution_count": 23
  },
  {
   "cell_type": "code",
   "metadata": {
    "ExecuteTime": {
     "end_time": "2025-09-17T10:00:48.781509Z",
     "start_time": "2025-09-17T10:00:48.777505Z"
    }
   },
   "source": [
    "print(segment_sentences(test_para))"
   ],
   "outputs": [
    {
     "name": "stdout",
     "output_type": "stream",
     "text": [
      "<s> en gång hade de på mårbacka en barnpiga som hette back kajsa </s>\n",
      "<s> hon var nog sina tre alnar lång hon hade ett stort grovt ansikte med stränga mörka drag hennes händer voro hårda och fulla av sprickor som barnens hår fastnade i när hon kammade dem och till humöret var hon dyster och sorgbunden </s>\n"
     ]
    }
   ],
   "execution_count": 24
  },
  {
   "cell_type": "markdown",
   "metadata": {},
   "source": [
    "Estimate qualitatively the accuracy of your program."
   ]
  },
  {
   "cell_type": "markdown",
   "metadata": {},
   "source": [
    "#### Tokenizing the corpus"
   ]
  },
  {
   "cell_type": "markdown",
   "metadata": {},
   "source": [
    "Clean and segment the corpus using the functions you have written"
   ]
  },
  {
   "cell_type": "code",
   "metadata": {
    "ExecuteTime": {
     "end_time": "2025-09-17T11:35:37.270595Z",
     "start_time": "2025-09-17T11:35:36.586945Z"
    }
   },
   "source": [
    "# Write your code here\n",
    "corpus = segment_sentences(corpus)\n"
   ],
   "outputs": [],
   "execution_count": 71
  },
  {
   "cell_type": "markdown",
   "metadata": {},
   "source": [
    "The result should be a normalized text without punctuation signs where all the sentences are delimited with `<s>` and `</s>` tags. The five last lines of the text should look like this. You may have some small differences."
   ]
  },
  {
   "cell_type": "code",
   "metadata": {
    "ExecuteTime": {
     "end_time": "2025-09-17T11:35:39.395902Z",
     "start_time": "2025-09-17T11:35:39.391052Z"
    }
   },
   "source": [
    "print(corpus[-557:])"
   ],
   "outputs": [
    {
     "name": "stdout",
     "output_type": "stream",
     "text": [
      "on hade fått större kärlek av sina föräldrar än någon annan han visste och sådan kärlek måste vändas i välsignelse </s>\n",
      "<s> då prästen sade detta kom alla människor att se bort mot klara gulla och de förundrade sig över vad de såg </s>\n",
      "<s> prästens ord tycktes redan ha gått i uppfyllelse </s>\n",
      "<s> där stod klara fina gulleborg ifrån skrolycka hon som var uppkallad efter själva solen vid sina föräldrars grav och lyste som en förklarad </s>\n",
      "<s> hon var likaså vacker som den söndagen då hon gick till kyrkan i den röda klänningen om inte vackrare </s> </s>\n"
     ]
    }
   ],
   "execution_count": 72
  },
  {
   "cell_type": "markdown",
   "metadata": {},
   "source": [
    "You will now create a list of words from your string. You will consider that a space or a carriage return is an item separator"
   ]
  },
  {
   "cell_type": "code",
   "metadata": {
    "ExecuteTime": {
     "end_time": "2025-09-17T11:35:41.681661Z",
     "start_time": "2025-09-17T11:35:41.287946Z"
    }
   },
   "source": [
    "# Write your code here\n",
    "words = words = re.findall(r'\\S+', corpus)"
   ],
   "outputs": [],
   "execution_count": 73
  },
  {
   "cell_type": "markdown",
   "metadata": {},
   "source": [
    "The five last lines of the corpus should like this:"
   ]
  },
  {
   "cell_type": "code",
   "metadata": {
    "ExecuteTime": {
     "end_time": "2025-09-17T11:35:43.000982Z",
     "start_time": "2025-09-17T11:35:42.996832Z"
    }
   },
   "source": [
    "print(words[-101:])"
   ],
   "outputs": [
    {
     "name": "stdout",
     "output_type": "stream",
     "text": [
      "['hon', 'hade', 'fått', 'större', 'kärlek', 'av', 'sina', 'föräldrar', 'än', 'någon', 'annan', 'han', 'visste', 'och', 'sådan', 'kärlek', 'måste', 'vändas', 'i', 'välsignelse', '</s>', '<s>', 'då', 'prästen', 'sade', 'detta', 'kom', 'alla', 'människor', 'att', 'se', 'bort', 'mot', 'klara', 'gulla', 'och', 'de', 'förundrade', 'sig', 'över', 'vad', 'de', 'såg', '</s>', '<s>', 'prästens', 'ord', 'tycktes', 'redan', 'ha', 'gått', 'i', 'uppfyllelse', '</s>', '<s>', 'där', 'stod', 'klara', 'fina', 'gulleborg', 'ifrån', 'skrolycka', 'hon', 'som', 'var', 'uppkallad', 'efter', 'själva', 'solen', 'vid', 'sina', 'föräldrars', 'grav', 'och', 'lyste', 'som', 'en', 'förklarad', '</s>', '<s>', 'hon', 'var', 'likaså', 'vacker', 'som', 'den', 'söndagen', 'då', 'hon', 'gick', 'till', 'kyrkan', 'i', 'den', 'röda', 'klänningen', 'om', 'inte', 'vackrare', '</s>', '</s>']\n"
     ]
    }
   ],
   "execution_count": 74
  },
  {
   "cell_type": "markdown",
   "metadata": {},
   "source": [
    "### Counting unigrams and bigrams"
   ]
  },
  {
   "cell_type": "markdown",
   "metadata": {},
   "source": [
    "Read and try programs to compute the frequency of unigrams and bigrams of the training set in the noteboo: [https://github.com/pnugues/pnlp/blob/main/notebooks/10_01_ngrams.ipynb](https://github.com/pnugues/pnlp/blob/main/notebooks/10_01_ngrams.ipynb)."
   ]
  },
  {
   "cell_type": "markdown",
   "metadata": {},
   "source": [
    "#### Unigrams"
   ]
  },
  {
   "cell_type": "code",
   "metadata": {
    "ExecuteTime": {
     "end_time": "2025-09-17T11:35:46.985151Z",
     "start_time": "2025-09-17T11:35:46.979962Z"
    }
   },
   "source": [
    "def unigrams(words):\n",
    "    frequency = {}\n",
    "    for i in range(len(words)):\n",
    "        if words[i] in frequency:\n",
    "            frequency[words[i]] += 1\n",
    "        else:\n",
    "            frequency[words[i]] = 1\n",
    "    return frequency"
   ],
   "outputs": [],
   "execution_count": 75
  },
  {
   "cell_type": "markdown",
   "metadata": {},
   "source": [
    "We compute the frequencies."
   ]
  },
  {
   "cell_type": "code",
   "metadata": {
    "ExecuteTime": {
     "end_time": "2025-09-17T11:35:49.218908Z",
     "start_time": "2025-09-17T11:35:48.992027Z"
    }
   },
   "source": [
    "frequency = unigrams(words)\n",
    "list(frequency.items())[:20]"
   ],
   "outputs": [
    {
     "data": {
      "text/plain": [
       "[('<s>', 45040),\n",
       " ('selma', 48),\n",
       " ('lagerlöf', 267),\n",
       " ('nils', 86),\n",
       " ('holgerssons', 6),\n",
       " ('underbara', 23),\n",
       " ('resa', 301),\n",
       " ('genom', 688),\n",
       " ('sverige', 52),\n",
       " ('</s>', 45040),\n",
       " ('första', 519),\n",
       " ('bandet', 6),\n",
       " ('bokutgåva', 11),\n",
       " ('albert', 15),\n",
       " ('bonniers', 11),\n",
       " ('förlag', 11),\n",
       " ('stockholm', 76),\n",
       " ('1907', 2),\n",
       " ('den', 11435),\n",
       " ('kristliga', 2)]"
      ]
     },
     "execution_count": 76,
     "metadata": {},
     "output_type": "execute_result"
    }
   ],
   "execution_count": 76
  },
  {
   "cell_type": "markdown",
   "metadata": {},
   "source": [
    "#### Bigrams"
   ]
  },
  {
   "cell_type": "code",
   "metadata": {
    "ExecuteTime": {
     "end_time": "2025-09-17T11:35:51.272058Z",
     "start_time": "2025-09-17T11:35:51.267456Z"
    }
   },
   "source": [
    "def bigrams(words):\n",
    "    bigrams = []\n",
    "    for i in range(len(words) - 1):\n",
    "        bigrams.append((words[i], words[i + 1]))\n",
    "    frequency_bigrams = {}\n",
    "    for i in range(len(words) - 1):\n",
    "        if bigrams[i] in frequency_bigrams:\n",
    "            frequency_bigrams[bigrams[i]] += 1\n",
    "        else:\n",
    "            frequency_bigrams[bigrams[i]] = 1\n",
    "    return frequency_bigrams"
   ],
   "outputs": [],
   "execution_count": 77
  },
  {
   "cell_type": "code",
   "metadata": {
    "ExecuteTime": {
     "end_time": "2025-09-17T10:00:51.231627Z",
     "start_time": "2025-09-17T10:00:50.598434Z"
    }
   },
   "source": [
    "frequency_bigrams = bigrams(words)\n",
    "list(frequency_bigrams.items())[:20]"
   ],
   "outputs": [
    {
     "data": {
      "text/plain": [
       "[(('<s>', 'selma'), 5),\n",
       " (('selma', 'lagerlöf'), 10),\n",
       " (('lagerlöf', 'nils'), 1),\n",
       " (('nils', 'holgerssons'), 6),\n",
       " (('holgerssons', 'underbara'), 4),\n",
       " (('underbara', 'resa'), 4),\n",
       " (('resa', 'genom'), 6),\n",
       " (('genom', 'sverige'), 5),\n",
       " (('sverige', '</s>'), 14),\n",
       " (('</s>', '<s>'), 45038),\n",
       " (('<s>', 'första'), 9),\n",
       " (('första', 'bandet'), 1),\n",
       " (('bandet', 'bokutgåva'), 2),\n",
       " (('bokutgåva', 'albert'), 11),\n",
       " (('albert', 'bonniers'), 11),\n",
       " (('bonniers', 'förlag'), 11),\n",
       " (('förlag', 'stockholm'), 10),\n",
       " (('stockholm', '1907'), 2),\n",
       " (('1907', '</s>'), 2),\n",
       " (('<s>', 'den'), 1160)]"
      ]
     },
     "execution_count": 32,
     "metadata": {},
     "output_type": "execute_result"
    }
   ],
   "execution_count": 32
  },
  {
   "cell_type": "markdown",
   "metadata": {},
   "source": [
    "In the report, tell what is the possible number of bigrams and their real number? Explain why such a difference. What would be the possible number of 4-grams.\n",
    "\n",
    "Propose a solution to cope with bigrams unseen in the corpus."
   ]
  },
  {
   "cell_type": "markdown",
   "metadata": {},
   "source": [
    "### Computing the likelihood of a sentence\n",
    "You will now compute the likelihood of a sentence using a bigram and a trigram models. \n",
    "\n",
    "In both models, you will ignore the start of sentence symbol, `<s>`, as this factor is common to both models: $P(<s>)$. This will save you one multiplication."
   ]
  },
  {
   "cell_type": "markdown",
   "metadata": {},
   "source": [
    "#### Unigrams"
   ]
  },
  {
   "cell_type": "markdown",
   "metadata": {},
   "source": [
    "Write a program to compute a sentence's probability using unigrams. Your function will return the perplexity."
   ]
  },
  {
   "cell_type": "markdown",
   "metadata": {},
   "source": [
    "Your function should print and tabulate the results as in the examples below with the sentence _Det var en gång en katt som hette Nils_.\n",
    "\n",
    "Your figures might be slightly different because of differences in the sentence segmentation."
   ]
  },
  {
   "cell_type": "markdown",
   "metadata": {},
   "source": [
    "```\n",
    "=====================================================\n",
    "wi \t C(wi) \t #words \t P(wi)\n",
    "=====================================================\n",
    "det \t 21108 \t 1041631 \t 0.0202643738521607\n",
    "var \t 12090 \t 1041631 \t 0.01160679741674355\n",
    "en \t 13514 \t 1041631 \t 0.01297388422579589\n",
    "gång \t 1332 \t 1041631 \t 0.001278763784871994\n",
    "en \t 13514 \t 1041631 \t 0.01297388422579589\n",
    "katt \t 16 \t 1041631 \t 1.5360525944408337e-05\n",
    "som \t 16288 \t 1041631 \t 0.015637015411407686\n",
    "hette \t 97 \t 1041631 \t 9.312318853797554e-05\n",
    "nils \t 87 \t 1041631 \t 8.352285982272032e-05\n",
    "</s> \t 59047 \t 1041631 \t 0.056687060964967444\n",
    "=====================================================\n",
    "Prob. unigrams:\t 5.361459667285409e-27\n",
    "Geometric mean prob.: 0.0023600885848765307\n",
    "Entropy rate:\t 8.726943273141258\n",
    "Perplexity:\t 423.71290908655254\n",
    "```"
   ]
  },
  {
   "cell_type": "code",
   "metadata": {
    "ExecuteTime": {
     "end_time": "2025-09-17T11:35:55.856196Z",
     "start_time": "2025-09-17T11:35:55.850087Z"
    }
   },
   "source": [
    "# Write your code\n",
    "length = len(words)\n",
    "def unigram_lm(frequency, sent_words):\n",
    "    \"\"\"\n",
    "    Computing the sentence probs with a unigram model.\n",
    "    \"\"\"\n",
    "    data = []\n",
    "    prob_unigram = 1\n",
    "    for word in sent_words:\n",
    "        prob = frequency.get(word, 0)/length\n",
    "        prob_unigram *= prob\n",
    "        data.append([word, frequency.get(word, 0), length, prob])\n",
    "\n",
    "    geo_mean = prob_unigram ** (1/len(sent_words))\n",
    "    entropy = -math.log2(geo_mean)\n",
    "    perplexity = 2 ** entropy\n",
    "    print(\"=\" * 65)\n",
    "    print(f\"{'wi':<10}{'C(wi)':>10}{'#words':>12}{'P(wi)':>20}\")\n",
    "    print(\"=\" * 65)\n",
    "    for row in data:\n",
    "        print(f\"{row[0]:<10}{row[1]:>10}{row[2]:>12}{row[3]:>20.10f}\")\n",
    "    print(\"=\" * 65)\n",
    "\n",
    "    print(f\"{'Prob. unigrams:':<25}{prob_unigram:.10e}\")\n",
    "    print(f\"{'Geometric mean prob.:':<25}{geo_mean:.10f}\")\n",
    "    print(f\"{'Entropy rate:':<25}{entropy:.6f}\")\n",
    "    print(f\"{'Perplexity:':<25}{perplexity:.6f}\")\n",
    "    print(\"=\" * 65)\n",
    "\n",
    "\n",
    "\n",
    "    return perplexity\n",
    "\n",
    "    "
   ],
   "outputs": [],
   "execution_count": 78
  },
  {
   "cell_type": "code",
   "metadata": {
    "ExecuteTime": {
     "end_time": "2025-09-17T11:35:58.384715Z",
     "start_time": "2025-09-17T11:35:58.380028Z"
    }
   },
   "source": [
    "sentence = 'kajsa hade en nils som var stor och stark </s>'\n",
    "sent_words = sentence.split()\n",
    "sent_words"
   ],
   "outputs": [
    {
     "data": {
      "text/plain": [
       "['kajsa', 'hade', 'en', 'nils', 'som', 'var', 'stor', 'och', 'stark', '</s>']"
      ]
     },
     "execution_count": 79,
     "metadata": {},
     "output_type": "execute_result"
    }
   ],
   "execution_count": 79
  },
  {
   "cell_type": "code",
   "metadata": {
    "ExecuteTime": {
     "end_time": "2025-09-17T11:36:00.741900Z",
     "start_time": "2025-09-17T11:36:00.736374Z"
    }
   },
   "source": [
    "perplexity_unigrams = unigram_lm(frequency, sent_words)"
   ],
   "outputs": [
    {
     "name": "stdout",
     "output_type": "stream",
     "text": [
      "=================================================================\n",
      "wi             C(wi)      #words               P(wi)\n",
      "=================================================================\n",
      "kajsa             42     1018050        0.0000412553\n",
      "hade           13189     1018050        0.0129551594\n",
      "en             13441     1018050        0.0132026914\n",
      "nils              86     1018050        0.0000844752\n",
      "som            16275     1018050        0.0159864447\n",
      "var            11998     1018050        0.0117852758\n",
      "stor             948     1018050        0.0009311920\n",
      "och            36090     1018050        0.0354501252\n",
      "stark            277     1018050        0.0002720888\n",
      "</s>           45040     1018050        0.0442414420\n",
      "=================================================================\n",
      "Prob. unigrams:          4.4627579639e-26\n",
      "Geometric mean prob.:    0.0029171606\n",
      "Entropy rate:            8.421219\n",
      "Perplexity:              342.799095\n",
      "=================================================================\n"
     ]
    }
   ],
   "execution_count": 80
  },
  {
   "cell_type": "code",
   "metadata": {
    "ExecuteTime": {
     "end_time": "2025-09-17T10:22:19.931306Z",
     "start_time": "2025-09-17T10:22:19.927431Z"
    }
   },
   "source": [
    "perplexity_unigrams = int(perplexity_unigrams)\n",
    "perplexity_unigrams"
   ],
   "outputs": [
    {
     "data": {
      "text/plain": [
       "342"
      ]
     },
     "execution_count": 68,
     "metadata": {},
     "output_type": "execute_result"
    }
   ],
   "execution_count": 68
  },
  {
   "cell_type": "markdown",
   "metadata": {},
   "source": [
    "#### Bigrams"
   ]
  },
  {
   "cell_type": "markdown",
   "metadata": {},
   "source": [
    "Write a program to compute the sentence probability using bigrams. Your function will tabulate and print the results as below. It will return the perplexity."
   ]
  },
  {
   "cell_type": "markdown",
   "metadata": {},
   "source": [
    "```\n",
    "=====================================================\n",
    "wi \t wi+1 \t Ci,i+1 \t C(i) \t P(wi+1|wi)\n",
    "=====================================================\n",
    "<s>\t det \t 5672 \t 59047 \t 0.09605907158704083\n",
    "det \t var \t 3839 \t 21108 \t 0.1818741709304529\n",
    "var \t en \t 712 \t 12090 \t 0.058891645988420185\n",
    "en \t gång \t 706 \t 13514 \t 0.052242119283705785\n",
    "gång \t en \t 20 \t 1332 \t 0.015015015015015015\n",
    "en \t katt \t 6 \t 13514 \t 0.0004439840165754033\n",
    "katt \t som \t 2 \t 16 \t 0.125\n",
    "som \t hette \t 45 \t 16288 \t 0.002762770137524558\n",
    "hette \t nils \t 0 \t 97 \t 0.0 \t *backoff: \t 8.352285982272032e-05\n",
    "nils \t </s> \t 2 \t 87 \t 0.022988505747126436\n",
    "=====================================================\n",
    "Prob. bigrams:\t 2.376007803503683e-19\n",
    "Geometric mean prob.: 0.013727289294133601\n",
    "Entropy rate:\t 6.186809422848149\n",
    "Perplexity:\t 72.84759420254609\n",
    "```"
   ]
  },
  {
   "cell_type": "code",
   "metadata": {
    "ExecuteTime": {
     "end_time": "2025-09-17T10:22:23.007216Z",
     "start_time": "2025-09-17T10:22:23.000342Z"
    }
   },
   "source": [
    "# Write your code\n",
    "def bigram_lm(frequency, frequency_bigrams, sent_words):\n",
    "    data = []\n",
    "    _bigrams = [(\"<s>\", sent_words[0])]\n",
    "    for i in range(0, len(sent_words) - 1):\n",
    "        _bigrams.append((sent_words[i], sent_words[i + 1]))\n",
    "    bigram_prob = 1\n",
    "    for bigram in _bigrams:\n",
    "        c_i_i1 = frequency_bigrams.get(bigram, 0)\n",
    "        c_i = frequency.get(bigram[0], 0)\n",
    "        p_wi1_wi = (c_i_i1 / c_i if c_i > 0 else 0) if c_i_i1 > 0 else frequency.get(bigram[1])/length\n",
    "        bigram_prob *= p_wi1_wi\n",
    "        data.append([bigram[0], bigram[1], c_i_i1, c_i, p_wi1_wi])\n",
    "    geo_mean = bigram_prob ** (1/len(_bigrams))\n",
    "    entropy = -math.log2(geo_mean) if geo_mean > 0 else float('inf')\n",
    "    perplexity = 2 ** entropy\n",
    "    print(\"=\" * 65)\n",
    "    print(f\"{'wi':<10}{'wi+1':>10}{'Ci,i+1':>12}{'C(i)':>12}{'P(wi+1|wi)':>20}\")\n",
    "    print(\"=\" * 65)\n",
    "    for row in data:\n",
    "        print(f\"{row[0]:<10}{row[1]:>10}{row[2]:>12}{row[3]:>12}{row[4]:>20.10f}\")\n",
    "    print(\"=\" * 65)\n",
    "\n",
    "    print(f\"{'Prob. bigrams:':<25}{bigram_prob:.10e}\")\n",
    "    print(f\"{'Geometric mean prob.:':<25}{geo_mean:.10f}\")\n",
    "    print(f\"{'Entropy rate:':<25}{entropy:.6f}\")\n",
    "    print(f\"{'Perplexity:':<25}{perplexity:.6f}\")\n",
    "    print(\"=\" * 65)\n",
    "\n",
    "    return perplexity"
   ],
   "outputs": [],
   "execution_count": 69
  },
  {
   "cell_type": "code",
   "metadata": {
    "ExecuteTime": {
     "end_time": "2025-09-17T10:22:27.339330Z",
     "start_time": "2025-09-17T10:22:27.335408Z"
    }
   },
   "source": [
    "perplexity_bigrams = bigram_lm(frequency, frequency_bigrams, sent_words)"
   ],
   "outputs": [
    {
     "name": "stdout",
     "output_type": "stream",
     "text": [
      "=================================================================\n",
      "wi              wi+1      Ci,i+1        C(i)          P(wi+1|wi)\n",
      "=================================================================\n",
      "<s>            kajsa           1       45039        0.0000222030\n",
      "kajsa           hade           3          42        0.0714285714\n",
      "hade              en         206       13189        0.0156190765\n",
      "en              nils           0       13441        0.0000844754\n",
      "nils             som           0          86        0.0159864761\n",
      "som              var         590       16275        0.0362519201\n",
      "var             stor          22       11998        0.0018336389\n",
      "stor             och          65         948        0.0685654008\n",
      "och            stark          23       36090        0.0006372956\n",
      "stark           </s>           8         277        0.0288808664\n",
      "=================================================================\n",
      "Prob. bigrams:           2.8062253551e-24\n",
      "Geometric mean prob.:    0.0044137960\n",
      "Entropy rate:            7.823764\n",
      "Perplexity:              226.562353\n",
      "=================================================================\n"
     ]
    }
   ],
   "execution_count": 70
  },
  {
   "cell_type": "code",
   "metadata": {
    "ExecuteTime": {
     "end_time": "2025-09-17T10:00:53.519554200Z",
     "start_time": "2025-09-16T15:13:54.034829Z"
    }
   },
   "source": [
    "perplexity_bigrams = int(perplexity_bigrams)\n",
    "perplexity_bigrams"
   ],
   "outputs": [
    {
     "data": {
      "text/plain": [
       "77"
      ]
     },
     "execution_count": 136,
     "metadata": {},
     "output_type": "execute_result"
    }
   ],
   "execution_count": 136
  },
  {
   "cell_type": "markdown",
   "metadata": {},
   "source": [
    "In addition to this sentence, _Det var en gång en katt som hette Nils_, write two other sentences that will form your test set and run your programs on them. You will insert them in your report."
   ]
  },
  {
   "cell_type": "markdown",
   "metadata": {},
   "source": [
    "### Online prediction of words"
   ]
  },
  {
   "cell_type": "markdown",
   "metadata": {},
   "source": [
    "You will now carry out an online prediction of words. You will consider two cases:\n",
    "1. Prediction of the current word a user is typing;\n",
    "2. Prediction of the next word.\n",
    "\n",
    "Ideally, you would write a loop that reads the words and apply the models while typing. As the Jupyter labs are not designed for interactive input and output, we will simplify the experimental settings with constant strings at a given time of the input.  \n",
    "\n",
    "We will assume the user is typing the phrase: _Det var en gång_. "
   ]
  },
  {
   "cell_type": "markdown",
   "metadata": {},
   "source": [
    "#### Trigrams"
   ]
  },
  {
   "cell_type": "markdown",
   "metadata": {},
   "source": [
    "To have a more accurate prediction, you will use a trigram counting function. Program this function following the model of your bigram counting function."
   ]
  },
  {
   "cell_type": "code",
   "metadata": {
    "ExecuteTime": {
     "end_time": "2025-09-17T10:00:53.520551100Z",
     "start_time": "2025-09-16T15:13:55.870579Z"
    }
   },
   "source": [
    "# Write your code\n",
    "def trigrams(words):\n",
    "    trigrams = []\n",
    "\n",
    "    for i in range(len(words) - 2):\n",
    "        trigrams.append((words[i], words[i + 1], words[i + 2]))\n",
    "\n",
    "    frequency_trigrams = {}\n",
    "    for trigram in trigrams:\n",
    "        if trigram in frequency_trigrams:\n",
    "            frequency_trigrams[trigram] += 1\n",
    "        else:\n",
    "            frequency_trigrams[trigram] = 1\n",
    "\n",
    "    return frequency_trigrams\n",
    "\n",
    "    "
   ],
   "outputs": [],
   "execution_count": 137
  },
  {
   "cell_type": "code",
   "metadata": {
    "ExecuteTime": {
     "end_time": "2025-09-17T10:00:53.523530800Z",
     "start_time": "2025-09-16T15:13:57.691435Z"
    }
   },
   "source": [
    "frequency_trigrams = trigrams(words)\n",
    "frequency_trigrams[('det', 'var', 'en')]"
   ],
   "outputs": [
    {
     "data": {
      "text/plain": [
       "307"
      ]
     },
     "execution_count": 138,
     "metadata": {},
     "output_type": "execute_result"
    }
   ],
   "execution_count": 138
  },
  {
   "cell_type": "markdown",
   "metadata": {},
   "source": [
    "#### Prediction"
   ]
  },
  {
   "cell_type": "markdown",
   "metadata": {},
   "source": [
    "The user starts typing _Det var en gång_. After the 2nd character, your program tries to help the user with suggested words."
   ]
  },
  {
   "cell_type": "code",
   "metadata": {
    "ExecuteTime": {
     "end_time": "2025-09-17T10:00:53.525748600Z",
     "start_time": "2025-09-16T15:14:00.805409Z"
    }
   },
   "source": [
    "starting_text = 'De'.lower()\n",
    "starting_text"
   ],
   "outputs": [
    {
     "data": {
      "text/plain": [
       "'de'"
      ]
     },
     "execution_count": 139,
     "metadata": {},
     "output_type": "execute_result"
    }
   ],
   "execution_count": 139
  },
  {
   "cell_type": "markdown",
   "metadata": {},
   "source": [
    "Write a program to rank the five first candidates at this point. Assign these predictions in a list that you will call `current_word_predictions_1`. Note that you are starting a sentence and you can then use the bigram frequencies. Write a sorting key that will enable you to have a deterministic ranking of the words or bigrams with identical frequencies: When two words have the same frequency, you will sort them by alphabetic order. You can do this with a tuple."
   ]
  },
  {
   "cell_type": "code",
   "metadata": {
    "ExecuteTime": {
     "end_time": "2025-09-17T10:00:53.526753700Z",
     "start_time": "2025-09-16T15:14:02.785506Z"
    }
   },
   "source": [
    "cand_nbr = 5"
   ],
   "outputs": [],
   "execution_count": 140
  },
  {
   "cell_type": "code",
   "metadata": {
    "ExecuteTime": {
     "end_time": "2025-09-17T10:00:53.527751300Z",
     "start_time": "2025-09-16T15:14:04.738581Z"
    }
   },
   "source": [
    "# Write your code here\n",
    "\n",
    "candidates = {}\n",
    "\n",
    "for (w1,w2), freq in frequency_bigrams.items():\n",
    "    if w1 == '<s>' and w2.startswith('de'):\n",
    "        candidates[w2] = freq\n",
    "\n",
    "sorted_candidates = sorted(\n",
    "    candidates.items(),\n",
    "    key=lambda item: (-item[1], item[0].lower())\n",
    ")\n",
    "\n",
    "current_word_predictions_1 = [word for word, freq in sorted_candidates[:cand_nbr]]\n",
    "\n"
   ],
   "outputs": [],
   "execution_count": 141
  },
  {
   "cell_type": "code",
   "metadata": {
    "ExecuteTime": {
     "end_time": "2025-09-17T10:00:53.539381300Z",
     "start_time": "2025-09-16T15:14:06.712247Z"
    }
   },
   "source": [
    "current_word_predictions_1"
   ],
   "outputs": [
    {
     "data": {
      "text/plain": [
       "['det', 'de', 'den', 'detta', 'denna']"
      ]
     },
     "execution_count": 142,
     "metadata": {},
     "output_type": "execute_result"
    }
   ],
   "execution_count": 142
  },
  {
   "cell_type": "markdown",
   "metadata": {},
   "source": [
    "Let us now suppose that the user has typed: _Det var en_. After detecting a space, your program starts predicting a next possible word."
   ]
  },
  {
   "cell_type": "code",
   "metadata": {
    "ExecuteTime": {
     "end_time": "2025-09-17T10:00:53.539381300Z",
     "start_time": "2025-09-16T15:14:08.791297Z"
    }
   },
   "source": [
    "current_text = \"Det var en \".lower()\n",
    "current_text"
   ],
   "outputs": [
    {
     "data": {
      "text/plain": [
       "'det var en '"
      ]
     },
     "execution_count": 143,
     "metadata": {},
     "output_type": "execute_result"
    }
   ],
   "execution_count": 143
  },
  {
   "cell_type": "markdown",
   "metadata": {},
   "source": [
    "Tokenize this text and return a list of tokens. Call it `tokens`."
   ]
  },
  {
   "cell_type": "code",
   "metadata": {
    "ExecuteTime": {
     "end_time": "2025-09-17T10:00:53.540380Z",
     "start_time": "2025-09-16T15:14:10.887160Z"
    }
   },
   "source": [
    "# Write your code here\n",
    "tokens = current_text.lower().strip().split(\" \")"
   ],
   "outputs": [],
   "execution_count": 144
  },
  {
   "cell_type": "code",
   "metadata": {
    "ExecuteTime": {
     "end_time": "2025-09-17T10:00:53.540380Z",
     "start_time": "2025-09-16T15:14:12.838119Z"
    }
   },
   "source": [
    "tokens"
   ],
   "outputs": [
    {
     "data": {
      "text/plain": [
       "['det', 'var', 'en']"
      ]
     },
     "execution_count": 145,
     "metadata": {},
     "output_type": "execute_result"
    }
   ],
   "execution_count": 145
  },
  {
   "cell_type": "markdown",
   "metadata": {},
   "source": [
    "Write a program to propose the five next possible words ranked by frequency using a trigram model. Assign these predictions to a variable that you will call `next_word_predictions`. Write a sorting key that will enable you have a deterministic ranking of the words or bigrams with identical frequencies: When two words have the same frequency, you will sort them by alphabetic order. You can do this with a tuple."
   ]
  },
  {
   "cell_type": "code",
   "metadata": {
    "ExecuteTime": {
     "end_time": "2025-09-17T10:00:53.543812200Z",
     "start_time": "2025-09-16T15:14:14.693143Z"
    }
   },
   "source": [
    "# Write your code here\n",
    "full_text = tokens.copy()\n",
    "best_five_words = []\n",
    "\n",
    "full_text = tokens.copy()\n",
    "best_five_words = []\n",
    "\n",
    "def findBestNextCandidate(word1, word2):\n",
    "    candidates = {}\n",
    "    for (w1, w2, w3), freq in frequency_trigrams.items():\n",
    "        if w1 == word1 and w2 == word2:\n",
    "            candidates[w3] = freq\n",
    "\n",
    "    sorted_candidates = sorted(\n",
    "        candidates.items(),\n",
    "        key=lambda item: (-item[1], item[0].lower())\n",
    "    )\n",
    "    return [word for word, freq in sorted_candidates[:cand_nbr]]\n",
    "\n"
   ],
   "outputs": [],
   "execution_count": 146
  },
  {
   "cell_type": "code",
   "metadata": {
    "ExecuteTime": {
     "end_time": "2025-09-17T10:00:53.546072100Z",
     "start_time": "2025-09-16T15:14:16.662301Z"
    }
   },
   "source": [
    "next_word_predictions = findBestNextCandidate(tokens[1], tokens[2])\n",
    "print(next_word_predictions)"
   ],
   "outputs": [
    {
     "name": "stdout",
     "output_type": "stream",
     "text": [
      "['stor', 'liten', 'gammal', 'god', 'sådan']\n"
     ]
    }
   ],
   "execution_count": 147
  },
  {
   "cell_type": "markdown",
   "metadata": {},
   "source": [
    "Finally, let us suppose that the user has typed _Det var en g_, rank the five possible candidates. Assign these predictions in a list that you will call `current_word_predictions_2`"
   ]
  },
  {
   "cell_type": "code",
   "metadata": {
    "ExecuteTime": {
     "end_time": "2025-09-17T10:00:53.547075800Z",
     "start_time": "2025-09-16T15:14:18.492205Z"
    }
   },
   "source": [
    "current_text = \"Det var en g\".lower()"
   ],
   "outputs": [],
   "execution_count": 148
  },
  {
   "cell_type": "code",
   "metadata": {
    "ExecuteTime": {
     "end_time": "2025-09-17T10:00:53.548368Z",
     "start_time": "2025-09-16T15:14:20.422392Z"
    }
   },
   "source": [
    "# Write your code here\n",
    "def findBestAutocompletion(token):\n",
    "    word1 = token[1]\n",
    "    word2 = token[2]\n",
    "    incomplete_word = token[3]\n",
    "\n",
    "    candidates = {}\n",
    "    for (w1, w2, w3), freq in frequency_trigrams.items():\n",
    "        if w1 == word1 and w2 == word2 and w3.startswith(incomplete_word):\n",
    "            candidates[w3] = freq\n",
    "\n",
    "    sorted_candidates = sorted(\n",
    "        candidates.items(),\n",
    "        key=lambda item: (-item[1], item[0].lower())\n",
    "    )\n",
    "    return [word for word, freq in sorted_candidates[:cand_nbr]]"
   ],
   "outputs": [],
   "execution_count": 149
  },
  {
   "cell_type": "code",
   "metadata": {
    "ExecuteTime": {
     "end_time": "2025-09-17T10:00:53.548368Z",
     "start_time": "2025-09-16T15:14:22.495126Z"
    }
   },
   "source": [
    "current_word_predictions_2 = findBestAutocompletion(tokenize(current_text))\n",
    "print(current_word_predictions_2)"
   ],
   "outputs": [
    {
     "name": "stdout",
     "output_type": "stream",
     "text": [
      "['gammal', 'god', 'gång', 'ganska', 'glädje']\n"
     ]
    }
   ],
   "execution_count": 150
  },
  {
   "cell_type": "markdown",
   "metadata": {},
   "source": [
    "## Turning in your assignment"
   ]
  },
  {
   "cell_type": "markdown",
   "metadata": {},
   "source": [
    "Now your are done with the program. To complete this assignment, you will:\n",
    "1. Write a short individual report on your program. I suggest that you use this structure for your report:\n",
    "      1. Objectives and dataset\n",
    "      2. Method and program structure, where you should outline your program and possibly describe difficult parts. In this section, you will include the __regular expression you used to segment the text__.\n",
    "      3. Results. You will include the __unigram and bigram tables__ for _Det var en gång en katt som hette Nils_ and __two other sentences__. You will also include the results of your __next word prediction__.\n",
    "      4. Conclusion\n",
    "      5. Answer to possible questions\n",
    "2. Execute the Jupyter notebook by Peter Norvig here: <a href=\"http://nbviewer.jupyter.org/url/norvig.com/ipython/How%20to%20Do%20Things%20with%20Words.ipynb\">https://nbviewer.jupyter.org/url/norvig.com/ipython/How to Do Things with Words.ipynb</a>. Just run all the cells and be sure that you understand the code. You will find the data here: <a href=\"http://norvig.com/ngrams/\">http://norvig.com/ngrams/</a>.\n",
    "3. In your report, after the description of your program and conclusion, you will describe one experiment with Norvig's notebook and a __long string of words your will create yourself or copy from a text you like__. You will remove all the punctuation and white spaces from this string. You will set this string in lowercase letters. You will just add a cell at the end of Sect. 7 in Norvig's notebook, where you will use your string and run the notebook cell with the <tt>segment()</tt> and <tt>segment2()</tt> functions. __You will comment the segmentation results you obtained__ with the unigram and bigram models.\n",
    "\n",
    "Submit your report as well as your **notebook** (for archiving purposes) to Canvas: https://canvas.education.lu.se/. To write your report, use Latex. This will probably help you structure your text. You can use the Overleaf online editor (www.overleaf.com). You will then upload a PDF file in Canvas.\n",
    "\n",
    "The submission deadline is September 26, 2025. You will have only three submission attempts. The deadline for the second and third ones are one week after you are noticed of your result."
   ]
  }
 ],
 "metadata": {
  "kernelspec": {
   "display_name": "Python 3.9.12 ('base')",
   "language": "python",
   "name": "python3"
  },
  "language_info": {
   "codemirror_mode": {
    "name": "ipython",
    "version": 3
   },
   "file_extension": ".py",
   "mimetype": "text/x-python",
   "name": "python",
   "nbconvert_exporter": "python",
   "pygments_lexer": "ipython3",
   "version": "3.12.4"
  },
  "vscode": {
   "interpreter": {
    "hash": "b97b11a820675205aae8f1d7f2a3f22bbd3a2c30189f44042310baf5b4cd1987"
   }
  }
 },
 "nbformat": 4,
 "nbformat_minor": 4
}
